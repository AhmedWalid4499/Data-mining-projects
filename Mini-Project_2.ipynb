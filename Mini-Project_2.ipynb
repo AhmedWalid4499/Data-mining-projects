{
  "nbformat": 4,
  "nbformat_minor": 0,
  "metadata": {
    "kernelspec": {
      "display_name": "Python 3",
      "language": "python",
      "name": "python3"
    },
    "language_info": {
      "codemirror_mode": {
        "name": "ipython",
        "version": 3
      },
      "file_extension": ".py",
      "mimetype": "text/x-python",
      "name": "python",
      "nbconvert_exporter": "python",
      "pygments_lexer": "ipython3",
      "version": "3.8.5"
    },
    "colab": {
      "name": "Mini-Project_2.ipynb",
      "provenance": [],
      "include_colab_link": true
    }
  },
  "cells": [
    {
      "cell_type": "markdown",
      "metadata": {
        "id": "view-in-github",
        "colab_type": "text"
      },
      "source": [
        "<a href=\"https://colab.research.google.com/github/GUC-DM/mini-project-2-georgina-adel-bit07-ahmed-walid-bit07/blob/main/Mini-Project_2.ipynb\" target=\"_parent\"><img src=\"https://colab.research.google.com/assets/colab-badge.svg\" alt=\"Open In Colab\"/></a>"
      ]
    },
    {
      "cell_type": "markdown",
      "metadata": {
        "id": "B5jakMzWcQGJ"
      },
      "source": [
        "# Mini-Project 2 - Clustering"
      ]
    },
    {
      "cell_type": "markdown",
      "metadata": {
        "id": "tQGSz6EucQGj"
      },
      "source": [
        "***Edit this cell with your name(s), tutorial number(s) and ID(s)***\n",
        "\n",
        "---\n",
        "\n",
        "Name: Ahmed Walid El Bourgy\n",
        "\n",
        "ID: 43-2812\n",
        "\n",
        "Tutorial: T-07\n",
        "\n",
        "---\n",
        "\n",
        "Name: Georgina Adel Naguib Habib\n",
        "\n",
        "ID: 43-2654\n",
        "\n",
        "Tutorial: T-07\n",
        "\n",
        "---\n"
      ]
    },
    {
      "cell_type": "markdown",
      "metadata": {
        "id": "dF93q13IcQGl"
      },
      "source": [
        "## Dataset Description\n",
        "\n",
        "The dataset file contains almost ~3000 different music genres aggregated from more than 170.000 songs collected from Spotify Web API.\n",
        "\n",
        "Primary:\n",
        "\n",
        "- genre (Music genre)\n",
        "\n",
        "Numerical:\n",
        "\n",
        "- acousticness (Ranges from 0 to 1)\n",
        "- danceability (Ranges from 0 to 1)\n",
        "- energy (Ranges from 0 to 1)\n",
        "- duration_ms (Integer typically ranging from 200k to 300k)\n",
        "- instrumentalness (Ranges from 0 to 1)\n",
        "- valence (Ranges from 0 to 1)\n",
        "- popularity (Ranges from 0 to 100)\n",
        "- tempo (Float typically ranging from 50 to 150)\n",
        "- liveness (Ranges from 0 to 1)\n",
        "- loudness (Float typically ranging from -60 to 0 in decibels (dB))\n",
        "- speechiness (Ranges from 0 to 1)\n",
        "- year (Ranges from 1921 to 2020)\n",
        "\n",
        "Binary:\n",
        "\n",
        "- mode (0 = Minor, 1 = Major; representing whether the track starts with a major (1) chord progression or not (0))\n",
        "- explicit (0 = No explicit content, 1 = Explicit content)\n",
        "\n",
        "Categorical:\n",
        "\n",
        "- key (All keys on octave encoded as values ranging from 0 to 11, starting on C as 0, C# as 1 and so on…)\n",
        "\n",
        "\n",
        "**Recommended Reading for Data Understanding**: Spotify's documentation of audio features: https://developer.spotify.com/documentation/web-api/reference/tracks/get-audio-features/\n",
        "\n",
        "**Acknowledgment**: This dataset was created and published by Yamaç Eren Ay on Kaggle.\n",
        "\n",
        "**Note**: the data URL is `https://raw.githubusercontent.com/GUC-DM/W2020/main/data/music_genres.csv`"
      ]
    },
    {
      "cell_type": "markdown",
      "metadata": {
        "id": "SFmR-6MNd2Lm"
      },
      "source": [
        "## Importing Libraries \\& Dataset"
      ]
    },
    {
      "cell_type": "code",
      "metadata": {
        "id": "7rIfxqAneDAr",
        "colab": {
          "base_uri": "https://localhost:8080/",
          "height": 487
        },
        "outputId": "1ca30731-ca77-4887-9120-91e390d9f553"
      },
      "source": [
        "import pandas as pd\r\n",
        "import numpy as np\r\n",
        "import matplotlib.pyplot as plt\r\n",
        "import seaborn as sns\r\n",
        "\r\n",
        "%matplotlib inline\r\n",
        "plt.style.use(\"seaborn\")\r\n",
        "\r\n",
        "try:\r\n",
        "    df = pd.read_csv('telecom_churn.csv')\r\n",
        "except:\r\n",
        "    df = pd.read_csv('https://raw.githubusercontent.com/GUC-DM/W2020/main/data/music_genres.csv')\r\n",
        "df"
      ],
      "execution_count": 26,
      "outputs": [
        {
          "output_type": "execute_result",
          "data": {
            "text/html": [
              "<div>\n",
              "<style scoped>\n",
              "    .dataframe tbody tr th:only-of-type {\n",
              "        vertical-align: middle;\n",
              "    }\n",
              "\n",
              "    .dataframe tbody tr th {\n",
              "        vertical-align: top;\n",
              "    }\n",
              "\n",
              "    .dataframe thead th {\n",
              "        text-align: right;\n",
              "    }\n",
              "</style>\n",
              "<table border=\"1\" class=\"dataframe\">\n",
              "  <thead>\n",
              "    <tr style=\"text-align: right;\">\n",
              "      <th></th>\n",
              "      <th>mode</th>\n",
              "      <th>genres</th>\n",
              "      <th>acousticness</th>\n",
              "      <th>danceability</th>\n",
              "      <th>duration_ms</th>\n",
              "      <th>energy</th>\n",
              "      <th>instrumentalness</th>\n",
              "      <th>liveness</th>\n",
              "      <th>loudness</th>\n",
              "      <th>speechiness</th>\n",
              "      <th>tempo</th>\n",
              "      <th>valence</th>\n",
              "      <th>popularity</th>\n",
              "      <th>key</th>\n",
              "    </tr>\n",
              "  </thead>\n",
              "  <tbody>\n",
              "    <tr>\n",
              "      <th>0</th>\n",
              "      <td>1</td>\n",
              "      <td>21st century classical</td>\n",
              "      <td>0.979333</td>\n",
              "      <td>0.162883</td>\n",
              "      <td>1.602977e+05</td>\n",
              "      <td>0.071317</td>\n",
              "      <td>0.606834</td>\n",
              "      <td>0.361600</td>\n",
              "      <td>-31.514333</td>\n",
              "      <td>0.040567</td>\n",
              "      <td>75.336500</td>\n",
              "      <td>0.103783</td>\n",
              "      <td>27.833333</td>\n",
              "      <td>6</td>\n",
              "    </tr>\n",
              "    <tr>\n",
              "      <th>1</th>\n",
              "      <td>1</td>\n",
              "      <td>432hz</td>\n",
              "      <td>0.494780</td>\n",
              "      <td>0.299333</td>\n",
              "      <td>1.048887e+06</td>\n",
              "      <td>0.450678</td>\n",
              "      <td>0.477762</td>\n",
              "      <td>0.131000</td>\n",
              "      <td>-16.854000</td>\n",
              "      <td>0.076817</td>\n",
              "      <td>120.285667</td>\n",
              "      <td>0.221750</td>\n",
              "      <td>52.500000</td>\n",
              "      <td>5</td>\n",
              "    </tr>\n",
              "    <tr>\n",
              "      <th>2</th>\n",
              "      <td>1</td>\n",
              "      <td>8-bit</td>\n",
              "      <td>0.762000</td>\n",
              "      <td>0.712000</td>\n",
              "      <td>1.151770e+05</td>\n",
              "      <td>0.818000</td>\n",
              "      <td>0.876000</td>\n",
              "      <td>0.126000</td>\n",
              "      <td>-9.180000</td>\n",
              "      <td>0.047000</td>\n",
              "      <td>133.444000</td>\n",
              "      <td>0.975000</td>\n",
              "      <td>48.000000</td>\n",
              "      <td>7</td>\n",
              "    </tr>\n",
              "    <tr>\n",
              "      <th>3</th>\n",
              "      <td>1</td>\n",
              "      <td>[]</td>\n",
              "      <td>0.651417</td>\n",
              "      <td>0.529093</td>\n",
              "      <td>2.328809e+05</td>\n",
              "      <td>0.419146</td>\n",
              "      <td>0.205309</td>\n",
              "      <td>0.218696</td>\n",
              "      <td>-12.288965</td>\n",
              "      <td>0.107872</td>\n",
              "      <td>112.857352</td>\n",
              "      <td>0.513604</td>\n",
              "      <td>20.859882</td>\n",
              "      <td>7</td>\n",
              "    </tr>\n",
              "    <tr>\n",
              "      <th>4</th>\n",
              "      <td>1</td>\n",
              "      <td>a cappella</td>\n",
              "      <td>0.676557</td>\n",
              "      <td>0.538961</td>\n",
              "      <td>1.906285e+05</td>\n",
              "      <td>0.316434</td>\n",
              "      <td>0.003003</td>\n",
              "      <td>0.172254</td>\n",
              "      <td>-12.479387</td>\n",
              "      <td>0.082851</td>\n",
              "      <td>112.110362</td>\n",
              "      <td>0.448249</td>\n",
              "      <td>45.820071</td>\n",
              "      <td>7</td>\n",
              "    </tr>\n",
              "    <tr>\n",
              "      <th>...</th>\n",
              "      <td>...</td>\n",
              "      <td>...</td>\n",
              "      <td>...</td>\n",
              "      <td>...</td>\n",
              "      <td>...</td>\n",
              "      <td>...</td>\n",
              "      <td>...</td>\n",
              "      <td>...</td>\n",
              "      <td>...</td>\n",
              "      <td>...</td>\n",
              "      <td>...</td>\n",
              "      <td>...</td>\n",
              "      <td>...</td>\n",
              "      <td>...</td>\n",
              "    </tr>\n",
              "    <tr>\n",
              "      <th>2968</th>\n",
              "      <td>1</td>\n",
              "      <td>zolo</td>\n",
              "      <td>0.222625</td>\n",
              "      <td>0.547082</td>\n",
              "      <td>2.580991e+05</td>\n",
              "      <td>0.610240</td>\n",
              "      <td>0.143872</td>\n",
              "      <td>0.204206</td>\n",
              "      <td>-11.295878</td>\n",
              "      <td>0.061088</td>\n",
              "      <td>125.494919</td>\n",
              "      <td>0.596155</td>\n",
              "      <td>33.778943</td>\n",
              "      <td>9</td>\n",
              "    </tr>\n",
              "    <tr>\n",
              "      <th>2969</th>\n",
              "      <td>0</td>\n",
              "      <td>zouglou</td>\n",
              "      <td>0.161000</td>\n",
              "      <td>0.863000</td>\n",
              "      <td>2.063200e+05</td>\n",
              "      <td>0.909000</td>\n",
              "      <td>0.000000</td>\n",
              "      <td>0.108000</td>\n",
              "      <td>-5.985000</td>\n",
              "      <td>0.081300</td>\n",
              "      <td>119.038000</td>\n",
              "      <td>0.845000</td>\n",
              "      <td>58.000000</td>\n",
              "      <td>7</td>\n",
              "    </tr>\n",
              "    <tr>\n",
              "      <th>2970</th>\n",
              "      <td>1</td>\n",
              "      <td>zouk</td>\n",
              "      <td>0.263261</td>\n",
              "      <td>0.748889</td>\n",
              "      <td>3.060728e+05</td>\n",
              "      <td>0.622444</td>\n",
              "      <td>0.257227</td>\n",
              "      <td>0.089678</td>\n",
              "      <td>-10.289222</td>\n",
              "      <td>0.038778</td>\n",
              "      <td>101.965222</td>\n",
              "      <td>0.824111</td>\n",
              "      <td>46.666667</td>\n",
              "      <td>5</td>\n",
              "    </tr>\n",
              "    <tr>\n",
              "      <th>2971</th>\n",
              "      <td>0</td>\n",
              "      <td>zurich indie</td>\n",
              "      <td>0.993000</td>\n",
              "      <td>0.705667</td>\n",
              "      <td>1.984173e+05</td>\n",
              "      <td>0.172667</td>\n",
              "      <td>0.468633</td>\n",
              "      <td>0.179667</td>\n",
              "      <td>-11.453333</td>\n",
              "      <td>0.348667</td>\n",
              "      <td>91.278000</td>\n",
              "      <td>0.739000</td>\n",
              "      <td>0.000000</td>\n",
              "      <td>7</td>\n",
              "    </tr>\n",
              "    <tr>\n",
              "      <th>2972</th>\n",
              "      <td>1</td>\n",
              "      <td>zydeco</td>\n",
              "      <td>0.421038</td>\n",
              "      <td>0.629409</td>\n",
              "      <td>1.716717e+05</td>\n",
              "      <td>0.609369</td>\n",
              "      <td>0.019248</td>\n",
              "      <td>0.255877</td>\n",
              "      <td>-9.854825</td>\n",
              "      <td>0.050491</td>\n",
              "      <td>126.366087</td>\n",
              "      <td>0.808544</td>\n",
              "      <td>30.261905</td>\n",
              "      <td>7</td>\n",
              "    </tr>\n",
              "  </tbody>\n",
              "</table>\n",
              "<p>2973 rows × 14 columns</p>\n",
              "</div>"
            ],
            "text/plain": [
              "      mode                  genres  acousticness  ...   valence  popularity  key\n",
              "0        1  21st century classical      0.979333  ...  0.103783   27.833333    6\n",
              "1        1                   432hz      0.494780  ...  0.221750   52.500000    5\n",
              "2        1                   8-bit      0.762000  ...  0.975000   48.000000    7\n",
              "3        1                      []      0.651417  ...  0.513604   20.859882    7\n",
              "4        1              a cappella      0.676557  ...  0.448249   45.820071    7\n",
              "...    ...                     ...           ...  ...       ...         ...  ...\n",
              "2968     1                    zolo      0.222625  ...  0.596155   33.778943    9\n",
              "2969     0                 zouglou      0.161000  ...  0.845000   58.000000    7\n",
              "2970     1                    zouk      0.263261  ...  0.824111   46.666667    5\n",
              "2971     0            zurich indie      0.993000  ...  0.739000    0.000000    7\n",
              "2972     1                  zydeco      0.421038  ...  0.808544   30.261905    7\n",
              "\n",
              "[2973 rows x 14 columns]"
            ]
          },
          "metadata": {
            "tags": []
          },
          "execution_count": 26
        }
      ]
    },
    {
      "cell_type": "markdown",
      "metadata": {
        "id": "_mlWLJbdeNW8"
      },
      "source": [
        "## Data Inspection & Cleaning (if any)"
      ]
    },
    {
      "cell_type": "code",
      "metadata": {
        "id": "YzxOgyh3R9mh"
      },
      "source": [
        "df=df.drop([3])"
      ],
      "execution_count": 27,
      "outputs": []
    },
    {
      "cell_type": "markdown",
      "metadata": {
        "id": "GvnyggHPe6uV"
      },
      "source": [
        "Here, we see if there is any missing values, and as you can there is no null values"
      ]
    },
    {
      "cell_type": "code",
      "metadata": {
        "id": "zoGCmCpFeZC_",
        "colab": {
          "base_uri": "https://localhost:8080/"
        },
        "outputId": "e5e6a8d9-5e02-4aae-c93e-db1fa83c097c"
      },
      "source": [
        "df.isnull().any()\r\n",
        "df.isnull().sum()"
      ],
      "execution_count": 28,
      "outputs": [
        {
          "output_type": "execute_result",
          "data": {
            "text/plain": [
              "mode                0\n",
              "genres              0\n",
              "acousticness        0\n",
              "danceability        0\n",
              "duration_ms         0\n",
              "energy              0\n",
              "instrumentalness    0\n",
              "liveness            0\n",
              "loudness            0\n",
              "speechiness         0\n",
              "tempo               0\n",
              "valence             0\n",
              "popularity          0\n",
              "key                 0\n",
              "dtype: int64"
            ]
          },
          "metadata": {
            "tags": []
          },
          "execution_count": 28
        }
      ]
    },
    {
      "cell_type": "code",
      "metadata": {
        "colab": {
          "base_uri": "https://localhost:8080/"
        },
        "id": "hKCeq21mqWwg",
        "outputId": "fa8b5db8-9e71-4da8-8f81-6b9cf0506583"
      },
      "source": [
        "df[df['genres'] == \"[]\"].count()"
      ],
      "execution_count": 29,
      "outputs": [
        {
          "output_type": "execute_result",
          "data": {
            "text/plain": [
              "mode                0\n",
              "genres              0\n",
              "acousticness        0\n",
              "danceability        0\n",
              "duration_ms         0\n",
              "energy              0\n",
              "instrumentalness    0\n",
              "liveness            0\n",
              "loudness            0\n",
              "speechiness         0\n",
              "tempo               0\n",
              "valence             0\n",
              "popularity          0\n",
              "key                 0\n",
              "dtype: int64"
            ]
          },
          "metadata": {
            "tags": []
          },
          "execution_count": 29
        }
      ]
    },
    {
      "cell_type": "code",
      "metadata": {
        "colab": {
          "base_uri": "https://localhost:8080/"
        },
        "id": "17Dv6UortsT0",
        "outputId": "a55cca31-5e2d-4dea-a353-eda1d8a890ae"
      },
      "source": [
        "df['genres'].nunique()"
      ],
      "execution_count": 30,
      "outputs": [
        {
          "output_type": "execute_result",
          "data": {
            "text/plain": [
              "2972"
            ]
          },
          "metadata": {
            "tags": []
          },
          "execution_count": 30
        }
      ]
    },
    {
      "cell_type": "code",
      "metadata": {
        "colab": {
          "base_uri": "https://localhost:8080/"
        },
        "id": "kUxOrtc2uqq2",
        "outputId": "616d477f-befe-4b13-e3f8-e4e3e7665aa4"
      },
      "source": [
        "df['genres'].unique()"
      ],
      "execution_count": 31,
      "outputs": [
        {
          "output_type": "execute_result",
          "data": {
            "text/plain": [
              "array(['21st century classical', '432hz', '8-bit', ..., 'zouk',\n",
              "       'zurich indie', 'zydeco'], dtype=object)"
            ]
          },
          "metadata": {
            "tags": []
          },
          "execution_count": 31
        }
      ]
    },
    {
      "cell_type": "markdown",
      "metadata": {
        "id": "DRr__hReiDqS"
      },
      "source": [
        "## Exploratory Data Analysis"
      ]
    },
    {
      "cell_type": "markdown",
      "metadata": {
        "id": "mOrHqG5XiE5C"
      },
      "source": [
        "**Q1: What are the 20 most danceable music genres?**"
      ]
    },
    {
      "cell_type": "markdown",
      "metadata": {
        "id": "ColCu78Al-tl"
      },
      "source": [
        "The X the Varibale takes the 20 most danceable genres. Then the array takes the indexes of the x in an array, then we loop on the array to rename the index with it's corresponding genre in the df."
      ]
    },
    {
      "cell_type": "code",
      "metadata": {
        "id": "Ql1Z_TgEnM2_",
        "colab": {
          "base_uri": "https://localhost:8080/"
        },
        "outputId": "3d5cf848-9e42-4865-e1db-885039c51dcc"
      },
      "source": [
        "x=df['danceability'].nlargest(20)\r\n",
        "array = x.index\r\n",
        "array\r\n",
        "for i in range(len(array)):\r\n",
        "    x.rename( index={x.index[i]: df.iloc[x.index[i]-1].iloc[1]}, inplace=True)\r\n",
        "\r\n",
        "x"
      ],
      "execution_count": 32,
      "outputs": [
        {
          "output_type": "execute_result",
          "data": {
            "text/plain": [
              "experimental house          0.929000\n",
              "guam indie                  0.920000\n",
              "dutch hip hop               0.911000\n",
              "dutch rap pop               0.907400\n",
              "british children's music    0.906000\n",
              "indie deutschrap            0.903000\n",
              "trance mexicano             0.902000\n",
              "footwork                    0.897000\n",
              "funk paulista               0.896000\n",
              "proto-rap                   0.893000\n",
              "tamaulipas rap              0.892000\n",
              "danish hip hop              0.891000\n",
              "alberta hip hop             0.885000\n",
              "serbian electronic          0.883000\n",
              "corridos cristianos         0.881000\n",
              "trap venezolano             0.877000\n",
              "atmospheric post-rock       0.869000\n",
              "zouglou                     0.863000\n",
              "miami bass                  0.860289\n",
              "cumbia santafesina          0.860000\n",
              "Name: danceability, dtype: float64"
            ]
          },
          "metadata": {
            "tags": []
          },
          "execution_count": 32
        }
      ]
    },
    {
      "cell_type": "markdown",
      "metadata": {
        "id": "zpb5sh6dp9VB"
      },
      "source": [
        "Note on the following code, it displays the brain waves, followed by the binaural, but please note that they both have the values of 0.001002 in energy, so they are equal."
      ]
    },
    {
      "cell_type": "markdown",
      "metadata": {
        "id": "4j5g3LGTiOaP"
      },
      "source": [
        "**Q2: What are the 20 lowest energy music genres?**"
      ]
    },
    {
      "cell_type": "markdown",
      "metadata": {
        "id": "9d1jw7Yrm1rJ"
      },
      "source": [
        "The y the Varibale takes the 20 lowest energy genres. Then the array takes the indexes of the y in an array, then we loop on the array to rename the index with it's corresponding genre in the df."
      ]
    },
    {
      "cell_type": "code",
      "metadata": {
        "id": "pBvdGKpPihpk",
        "colab": {
          "base_uri": "https://localhost:8080/"
        },
        "outputId": "10432160-bcfc-4dee-cac1-4419e5d2861e"
      },
      "source": [
        "y=df['energy'].nsmallest(20)\r\n",
        "array = y.index\r\n",
        "array\r\n",
        "for i in range(len(array)):\r\n",
        "    y.rename( index={y.index[i]: df.iloc[y.index[i]-1].iloc[1]}, inplace=True)\r\n",
        "\r\n",
        "y"
      ],
      "execution_count": 33,
      "outputs": [
        {
          "output_type": "execute_result",
          "data": {
            "text/plain": [
              "binaural                            0.001002\n",
              "brain waves                         0.001002\n",
              "korean classical piano              0.003950\n",
              "singing bowl                        0.004130\n",
              "medieval                            0.004440\n",
              "italian classical guitar            0.005490\n",
              "native american spiritual           0.008390\n",
              "caucasian classical piano           0.008877\n",
              "australian ambient                  0.008900\n",
              "dutch classical piano               0.011550\n",
              "balkan classical piano              0.012015\n",
              "bible                               0.016100\n",
              "baltic classical                    0.019407\n",
              "boy soprano                         0.021500\n",
              "australian choir                    0.021800\n",
              "ghanaian traditional                0.022400\n",
              "warm drone                          0.023600\n",
              "american 21st century classical     0.023950\n",
              "contemporary choir                  0.023950\n",
              "hungarian contemporary classical    0.025200\n",
              "Name: energy, dtype: float64"
            ]
          },
          "metadata": {
            "tags": []
          },
          "execution_count": 33
        }
      ]
    },
    {
      "cell_type": "markdown",
      "metadata": {
        "id": "aShdkNMgiO07"
      },
      "source": [
        "**Q3: What are the 20 loudest music genres?**"
      ]
    },
    {
      "cell_type": "markdown",
      "metadata": {
        "id": "txQVpJCznDYv"
      },
      "source": [
        "The z the Varibale takes the 20 loudest genres. Then the array takes the indexes of the z in an array, then we loop on the array to rename the index with it's corresponding genre in the df."
      ]
    },
    {
      "cell_type": "code",
      "metadata": {
        "id": "v6Nv9QPJiiSU",
        "colab": {
          "base_uri": "https://localhost:8080/"
        },
        "outputId": "429abbe6-d725-46af-acf8-43a6c32bead9"
      },
      "source": [
        "z=df['loudness'].nlargest(20)\r\n",
        "array = z.index\r\n",
        "array\r\n",
        "for i in range(len(array)):\r\n",
        "    z.rename( index={z.index[i]: df.iloc[z.index[i]-1].iloc[1]}, inplace=True)\r\n",
        "\r\n",
        "z"
      ],
      "execution_count": 34,
      "outputs": [
        {
          "output_type": "execute_result",
          "data": {
            "text/plain": [
              "nederlandse hardstyle     0.060000\n",
              "action rock              -0.253000\n",
              "memphis indie            -0.253000\n",
              "arabic hip hop           -0.910000\n",
              "middle east hip hop      -0.910000\n",
              "palestinian pop          -0.910000\n",
              "japanese metalcore       -1.627389\n",
              "birmingham hip hop       -1.714000\n",
              "j-idol                   -1.810810\n",
              "japanese indie rock      -1.820000\n",
              "japanese post-hardcore   -2.000750\n",
              "nz hardcore              -2.112000\n",
              "nz punk                  -2.112000\n",
              "belarusian pop           -2.210000\n",
              "belarusian rock          -2.210000\n",
              "xtra raw                 -2.344000\n",
              "norwegian punk rock      -2.382500\n",
              "alt-idol                 -2.623250\n",
              "kawaii metal             -2.623250\n",
              "russian dance            -2.634000\n",
              "Name: loudness, dtype: float64"
            ]
          },
          "metadata": {
            "tags": []
          },
          "execution_count": 34
        }
      ]
    },
    {
      "cell_type": "markdown",
      "metadata": {
        "id": "YW7CmsQniPa_"
      },
      "source": [
        "**Q4: What are the 20 music genres most commonly performed live?**"
      ]
    },
    {
      "cell_type": "markdown",
      "metadata": {
        "id": "L8lCCqtYnMBL"
      },
      "source": [
        "The a the Varibale takes the 20 genres most common;y performed live. Then the array takes the indexes of the a in an array, then we loop on the array to rename the index with it's corresponding genre in the df."
      ]
    },
    {
      "cell_type": "code",
      "metadata": {
        "id": "EQEEg_tKii6e",
        "colab": {
          "base_uri": "https://localhost:8080/"
        },
        "outputId": "109c0302-3088-4707-ed8c-c8cb8b7effdd"
      },
      "source": [
        "a=df['liveness'].nlargest(20)\r\n",
        "array = a.index\r\n",
        "array\r\n",
        "for i in range(len(array)):\r\n",
        "    a.rename( index={a.index[i]: df.iloc[a.index[i]-1].iloc[1]}, inplace=True)\r\n",
        "\r\n",
        "a"
      ],
      "execution_count": 35,
      "outputs": [
        {
          "output_type": "execute_result",
          "data": {
            "text/plain": [
              "modular synth              0.960000\n",
              "gujarati garba             0.883000\n",
              "trance mexicano            0.880000\n",
              "mindfulness                0.864250\n",
              "birdsong                   0.799833\n",
              "new comedy                 0.749700\n",
              "deep comedy                0.721750\n",
              "autoharp                   0.719000\n",
              "clean comedy               0.711513\n",
              "atmospheric post-metal     0.706000\n",
              "atmospheric sludge         0.706000\n",
              "dutch jazz                 0.706000\n",
              "musica paraibana           0.704000\n",
              "irish banjo                0.693333\n",
              "west australian hip hop    0.687000\n",
              "greek house                0.670000\n",
              "organic electronic         0.670000\n",
              "j-acoustic                 0.669000\n",
              "classic icelandic pop      0.665000\n",
              "turkish trap               0.649933\n",
              "Name: liveness, dtype: float64"
            ]
          },
          "metadata": {
            "tags": []
          },
          "execution_count": 35
        }
      ]
    },
    {
      "cell_type": "markdown",
      "metadata": {
        "id": "K8fk1UUAiPjD"
      },
      "source": [
        "**Q5: What are the 20 most popular music genres?**"
      ]
    },
    {
      "cell_type": "markdown",
      "metadata": {
        "id": "qCZxdV_nndkz"
      },
      "source": [
        "The b the Varibale takes the 20 most popular  genres. Then the array takes the indexes of the b in an array, then we loop on the array to rename the index with it's corresponding genre in the df."
      ]
    },
    {
      "cell_type": "code",
      "metadata": {
        "id": "hCUY7r-Bijk5",
        "colab": {
          "base_uri": "https://localhost:8080/"
        },
        "outputId": "8a3c6369-f21b-435e-bc26-4a6273844ae5"
      },
      "source": [
        "b=df['popularity'].nlargest(20)\r\n",
        "array = b.index\r\n",
        "array\r\n",
        "for i in range(len(array)):\r\n",
        "    b.rename( index={b.index[i]: df.iloc[b.index[i]-1].iloc[1]}, inplace=True)\r\n",
        "\r\n",
        "b"
      ],
      "execution_count": 36,
      "outputs": [
        {
          "output_type": "execute_result",
          "data": {
            "text/plain": [
              "basshall               80.666667\n",
              "south african house    80.000000\n",
              "trap venezolano        80.000000\n",
              "turkish edm            80.000000\n",
              "alberta hip hop        78.500000\n",
              "chinese electropop     78.500000\n",
              "afroswing              77.312500\n",
              "afro soul              77.000000\n",
              "circuit                77.000000\n",
              "guaracha               77.000000\n",
              "indie triste           77.000000\n",
              "russian dance          77.000000\n",
              "uk diy punk            77.000000\n",
              "pagode baiano          76.666667\n",
              "ritmo kombina          76.333333\n",
              "trap triste            76.083333\n",
              "norwegian pop rap      76.000000\n",
              "urbano espanol         75.250000\n",
              "musica canaria         75.166667\n",
              "argentine hip hop      74.979167\n",
              "Name: popularity, dtype: float64"
            ]
          },
          "metadata": {
            "tags": []
          },
          "execution_count": 36
        }
      ]
    },
    {
      "cell_type": "markdown",
      "metadata": {
        "id": "hlKL98N24nmj"
      },
      "source": [
        "# Clustering"
      ]
    },
    {
      "cell_type": "markdown",
      "metadata": {
        "id": "EaK5DLc3MEfI"
      },
      "source": [
        "In the following code, we simply created a new dataframe that we tweaked a little so we can use during the clustering. Bellow, we turned the genres from strings to simple numbers."
      ]
    },
    {
      "cell_type": "code",
      "metadata": {
        "id": "ZTDRm61AqlRj"
      },
      "source": [
        "from sklearn.preprocessing import LabelEncoder\r\n",
        "df_encoded = df.copy()\r\n",
        "\r\n",
        "\r\n",
        "ml= LabelEncoder()\r\n",
        "df_encoded['genres'] = ml.fit_transform(df['genres'])\r\n",
        "from sklearn.preprocessing import LabelEncoder\r\n",
        "df_encoded = df.copy()\r\n",
        "\r\n",
        "\r\n",
        "ml= LabelEncoder()\r\n",
        "df_encoded['genres'] = ml.fit_transform(df['genres'])\r\n",
        "df_encoded.drop('mode', axis=1, inplace=True)\r\n",
        "df_encoded.drop('key', axis=1, inplace=True)"
      ],
      "execution_count": 37,
      "outputs": []
    },
    {
      "cell_type": "markdown",
      "metadata": {
        "id": "5gzMU51zOWGh"
      },
      "source": [
        "Here, we scaled the value of the liveness using the scaling function which in essence do the Z-score normalization."
      ]
    },
    {
      "cell_type": "code",
      "metadata": {
        "id": "Wkt8smIxAtg-",
        "colab": {
          "base_uri": "https://localhost:8080/"
        },
        "outputId": "e0d70c82-5549-4284-ed68-a07c8107a3bb"
      },
      "source": [
        "from sklearn.preprocessing import StandardScaler\r\n",
        "scaled_data = StandardScaler().fit_transform(df_encoded[['liveness']])\r\n",
        "scaled_data"
      ],
      "execution_count": 38,
      "outputs": [
        {
          "output_type": "execute_result",
          "data": {
            "text/plain": [
              "array([[ 1.82784035],\n",
              "       [-0.66906228],\n",
              "       [-0.72320154],\n",
              "       ...,\n",
              "       [-1.11649318],\n",
              "       [-0.14210683],\n",
              "       [ 0.6830829 ]])"
            ]
          },
          "metadata": {
            "tags": []
          },
          "execution_count": 38
        }
      ]
    },
    {
      "cell_type": "markdown",
      "metadata": {
        "id": "c2a1aF55OgUG"
      },
      "source": [
        "We decided to use the Elbow method as our way of having an insight on how many clusters we should use. And it was clear that having clsuters between 4 and 5 is the optimum solution. "
      ]
    },
    {
      "cell_type": "code",
      "metadata": {
        "id": "_pIH3cVKyPcn",
        "colab": {
          "base_uri": "https://localhost:8080/",
          "height": 382
        },
        "outputId": "8ab0ece8-7d14-4197-e3a4-b6866229856c"
      },
      "source": [
        "from sklearn.cluster import KMeans\r\n",
        "df_copy=df[['energy', 'speechiness', 'acousticness','danceability','valence', 'liveness']]\r\n",
        "wcss = []\r\n",
        "for i in range(1, 10):\r\n",
        "    km = KMeans(n_clusters=i, init='k-means++', max_iter=300, n_init=10, random_state=0)\r\n",
        "    km.fit(df_copy)\r\n",
        "    wcss.append(km.inertia_)\r\n",
        "    \r\n",
        "plt.plot(range(1, 10), wcss, marker='o', color='red')\r\n",
        "plt.title('The Elbow Method', fontsize = 20)\r\n",
        "plt.xlabel('No. of Clusters')\r\n",
        "plt.ylabel('wcss')\r\n",
        "plt.show()"
      ],
      "execution_count": 39,
      "outputs": [
        {
          "output_type": "display_data",
          "data": {
            "image/png": "[encoded data removed]",
            "text/plain": [
              "<Figure size 576x396 with 1 Axes>"
            ]
          },
          "metadata": {
            "tags": []
          }
        }
      ]
    },
    {
      "cell_type": "markdown",
      "metadata": {
        "id": "jKBy_QXnOu5M"
      },
      "source": [
        "We chose 5 clusters and we clustered based on the given variables as they were the ones that would help us determine which genres belong together."
      ]
    },
    {
      "cell_type": "code",
      "metadata": {
        "id": "lDPq8Zdoxw3U"
      },
      "source": [
        "km = KMeans(n_clusters=5, init='k-means++', max_iter=300, n_init=10, random_state=0)\n",
        "\n",
        "pred = km.fit_predict(df_encoded[['energy', 'speechiness', 'acousticness','danceability','valence', 'liveness']])\n",
        "\n",
        "# Get the cluster labels for the fitted data\n",
        "labels = km.labels_\n",
        "labels\n",
        "df_encoded['cluster'] = labels\n",
        "df['cluster']=labels"
      ],
      "execution_count": 40,
      "outputs": []
    },
    {
      "cell_type": "markdown",
      "metadata": {
        "id": "D2b_kEU3O7hw"
      },
      "source": [
        "we counded how many rows are there/cluster"
      ]
    },
    {
      "cell_type": "code",
      "metadata": {
        "id": "1Pf20eTDmTQz",
        "colab": {
          "base_uri": "https://localhost:8080/"
        },
        "outputId": "41102f1c-db12-4b09-8798-5ba7c744063c"
      },
      "source": [
        "frame = pd.DataFrame(df_encoded)\r\n",
        "frame['cluster'] = pred\r\n",
        "frame['cluster'].value_counts()"
      ],
      "execution_count": 41,
      "outputs": [
        {
          "output_type": "execute_result",
          "data": {
            "text/plain": [
              "3    869\n",
              "2    604\n",
              "0    541\n",
              "4    503\n",
              "1    455\n",
              "Name: cluster, dtype: int64"
            ]
          },
          "metadata": {
            "tags": []
          },
          "execution_count": 41
        }
      ]
    },
    {
      "cell_type": "markdown",
      "metadata": {
        "id": "sEubexK4S4uz"
      },
      "source": [
        "we used a countplot to visualize it. "
      ]
    },
    {
      "cell_type": "code",
      "metadata": {
        "id": "mORiC8UlkF50",
        "colab": {
          "base_uri": "https://localhost:8080/",
          "height": 379
        },
        "outputId": "b2a6c3b2-3605-4199-9250-60c83e38c3c1"
      },
      "source": [
        "sns.countplot(x='cluster', data=df_encoded)"
      ],
      "execution_count": 42,
      "outputs": [
        {
          "output_type": "execute_result",
          "data": {
            "text/plain": [
              "<matplotlib.axes._subplots.AxesSubplot at 0x7fe1019a4cf8>"
            ]
          },
          "metadata": {
            "tags": []
          },
          "execution_count": 42
        },
        {
          "output_type": "display_data",
          "data": {
            "image/png": "[encoded data removed]",
            "text/plain": [
              "<Figure size 576x396 with 1 Axes>"
            ]
          },
          "metadata": {
            "tags": []
          }
        }
      ]
    },
    {
      "cell_type": "markdown",
      "metadata": {
        "id": "H3i8_mASJ-if"
      },
      "source": [
        "In accosticness, mind my spelling, we can see that box 2 is high in accosticness, which means that the genre witihin it are high in accosticness, box 3 is very low, which means that genres within it has low acousticness, which make sense in regard that virginia punk which in cluster 3 is low in acousticness.\r\n",
        "\r\n",
        "Following that in all the boxplots that within them, all boxes that are high indicates that genres included within it is high on that feature, and vice versa.\r\n",
        "\r\n",
        "In these boxplots we see the outliers in every columns with respect to the clusters. So, for example, duration has a huge number of outliers. Speachness it full of outliers as well. Cluster 3 in instrumentalness is full of outliers. speechness displayed a lot of outliers in each cluster. "
      ]
    },
    {
      "cell_type": "code",
      "metadata": {
        "id": "gZvtDYP2T1DZ",
        "colab": {
          "base_uri": "https://localhost:8080/",
          "height": 1000
        },
        "outputId": "232f3313-d281-488b-c025-338de8fd9459"
      },
      "source": [
        "cols = df_encoded.select_dtypes('number').columns.drop(['cluster'])\r\n",
        "n = int(len(cols)**(1/2))\r\n",
        "\r\n",
        "plt.figure(figsize=(30,30))\r\n",
        "for i, col in enumerate(cols, 1):\r\n",
        "    plt.subplot(n+1, n, i)\r\n",
        "    sns.boxplot(x='cluster', y=col, data=df_encoded)"
      ],
      "execution_count": 43,
      "outputs": [
        {
          "output_type": "display_data",
          "data": {
            "image/png": "[encoded data removed]",
            "text/plain": [
              "<Figure size 2160x2160 with 12 Axes>"
            ]
          },
          "metadata": {
            "tags": []
          }
        }
      ]
    },
    {
      "cell_type": "markdown",
      "metadata": {
        "id": "oRFb143DSPn2"
      },
      "source": [
        "In the following five blocks of code, we extratced 10 random samples from every cluster so we can have more insight about what genres are in every cluster."
      ]
    },
    {
      "cell_type": "code",
      "metadata": {
        "colab": {
          "base_uri": "https://localhost:8080/",
          "height": 532
        },
        "id": "aMZ1tYhi6Q4M",
        "outputId": "404c85fd-2de7-4a3f-d230-fd8a9903544b"
      },
      "source": [
        "x=df[df['cluster']==0].sample(10)\r\n",
        "x"
      ],
      "execution_count": 44,
      "outputs": [
        {
          "output_type": "execute_result",
          "data": {
            "text/html": [
              "<div>\n",
              "<style scoped>\n",
              "    .dataframe tbody tr th:only-of-type {\n",
              "        vertical-align: middle;\n",
              "    }\n",
              "\n",
              "    .dataframe tbody tr th {\n",
              "        vertical-align: top;\n",
              "    }\n",
              "\n",
              "    .dataframe thead th {\n",
              "        text-align: right;\n",
              "    }\n",
              "</style>\n",
              "<table border=\"1\" class=\"dataframe\">\n",
              "  <thead>\n",
              "    <tr style=\"text-align: right;\">\n",
              "      <th></th>\n",
              "      <th>mode</th>\n",
              "      <th>genres</th>\n",
              "      <th>acousticness</th>\n",
              "      <th>danceability</th>\n",
              "      <th>duration_ms</th>\n",
              "      <th>energy</th>\n",
              "      <th>instrumentalness</th>\n",
              "      <th>liveness</th>\n",
              "      <th>loudness</th>\n",
              "      <th>speechiness</th>\n",
              "      <th>tempo</th>\n",
              "      <th>valence</th>\n",
              "      <th>popularity</th>\n",
              "      <th>key</th>\n",
              "      <th>cluster</th>\n",
              "    </tr>\n",
              "  </thead>\n",
              "  <tbody>\n",
              "    <tr>\n",
              "      <th>2264</th>\n",
              "      <td>1</td>\n",
              "      <td>puerto rican pop</td>\n",
              "      <td>0.423336</td>\n",
              "      <td>0.520339</td>\n",
              "      <td>241018.214649</td>\n",
              "      <td>0.609956</td>\n",
              "      <td>0.004835</td>\n",
              "      <td>0.220865</td>\n",
              "      <td>-7.842867</td>\n",
              "      <td>0.051912</td>\n",
              "      <td>114.940935</td>\n",
              "      <td>0.528421</td>\n",
              "      <td>53.958298</td>\n",
              "      <td>9</td>\n",
              "      <td>0</td>\n",
              "    </tr>\n",
              "    <tr>\n",
              "      <th>2140</th>\n",
              "      <td>1</td>\n",
              "      <td>pinoy praise</td>\n",
              "      <td>0.351918</td>\n",
              "      <td>0.357000</td>\n",
              "      <td>242831.250000</td>\n",
              "      <td>0.531450</td>\n",
              "      <td>0.000075</td>\n",
              "      <td>0.299567</td>\n",
              "      <td>-9.862250</td>\n",
              "      <td>0.036358</td>\n",
              "      <td>138.397917</td>\n",
              "      <td>0.289350</td>\n",
              "      <td>49.833333</td>\n",
              "      <td>7</td>\n",
              "      <td>0</td>\n",
              "    </tr>\n",
              "    <tr>\n",
              "      <th>1524</th>\n",
              "      <td>1</td>\n",
              "      <td>japanese vgm</td>\n",
              "      <td>0.534099</td>\n",
              "      <td>0.368319</td>\n",
              "      <td>203724.987990</td>\n",
              "      <td>0.521417</td>\n",
              "      <td>0.725311</td>\n",
              "      <td>0.264274</td>\n",
              "      <td>-11.303810</td>\n",
              "      <td>0.044178</td>\n",
              "      <td>118.421706</td>\n",
              "      <td>0.356048</td>\n",
              "      <td>45.349020</td>\n",
              "      <td>7</td>\n",
              "      <td>0</td>\n",
              "    </tr>\n",
              "    <tr>\n",
              "      <th>1309</th>\n",
              "      <td>1</td>\n",
              "      <td>hong kong rock</td>\n",
              "      <td>0.552000</td>\n",
              "      <td>0.725000</td>\n",
              "      <td>274693.000000</td>\n",
              "      <td>0.526000</td>\n",
              "      <td>0.000130</td>\n",
              "      <td>0.115000</td>\n",
              "      <td>-12.166000</td>\n",
              "      <td>0.030900</td>\n",
              "      <td>112.811000</td>\n",
              "      <td>0.479000</td>\n",
              "      <td>39.000000</td>\n",
              "      <td>5</td>\n",
              "      <td>0</td>\n",
              "    </tr>\n",
              "    <tr>\n",
              "      <th>1365</th>\n",
              "      <td>1</td>\n",
              "      <td>indie hip hop</td>\n",
              "      <td>0.388790</td>\n",
              "      <td>0.704367</td>\n",
              "      <td>205161.600000</td>\n",
              "      <td>0.507300</td>\n",
              "      <td>0.000013</td>\n",
              "      <td>0.303513</td>\n",
              "      <td>-9.305800</td>\n",
              "      <td>0.228027</td>\n",
              "      <td>107.624267</td>\n",
              "      <td>0.526333</td>\n",
              "      <td>49.300000</td>\n",
              "      <td>7</td>\n",
              "      <td>0</td>\n",
              "    </tr>\n",
              "    <tr>\n",
              "      <th>429</th>\n",
              "      <td>0</td>\n",
              "      <td>canadian electropop</td>\n",
              "      <td>0.194044</td>\n",
              "      <td>0.635724</td>\n",
              "      <td>212640.141534</td>\n",
              "      <td>0.631437</td>\n",
              "      <td>0.125718</td>\n",
              "      <td>0.145879</td>\n",
              "      <td>-6.590967</td>\n",
              "      <td>0.058643</td>\n",
              "      <td>110.265576</td>\n",
              "      <td>0.389604</td>\n",
              "      <td>56.703704</td>\n",
              "      <td>9</td>\n",
              "      <td>0</td>\n",
              "    </tr>\n",
              "    <tr>\n",
              "      <th>1343</th>\n",
              "      <td>1</td>\n",
              "      <td>idol</td>\n",
              "      <td>0.360698</td>\n",
              "      <td>0.483300</td>\n",
              "      <td>220173.064286</td>\n",
              "      <td>0.591257</td>\n",
              "      <td>0.130431</td>\n",
              "      <td>0.180802</td>\n",
              "      <td>-7.137229</td>\n",
              "      <td>0.040195</td>\n",
              "      <td>127.796229</td>\n",
              "      <td>0.472521</td>\n",
              "      <td>49.126190</td>\n",
              "      <td>5</td>\n",
              "      <td>0</td>\n",
              "    </tr>\n",
              "    <tr>\n",
              "      <th>2007</th>\n",
              "      <td>0</td>\n",
              "      <td>nottingham indie</td>\n",
              "      <td>0.256493</td>\n",
              "      <td>0.478700</td>\n",
              "      <td>260142.066667</td>\n",
              "      <td>0.411300</td>\n",
              "      <td>0.167198</td>\n",
              "      <td>0.132650</td>\n",
              "      <td>-11.606967</td>\n",
              "      <td>0.040063</td>\n",
              "      <td>129.888400</td>\n",
              "      <td>0.248407</td>\n",
              "      <td>51.800000</td>\n",
              "      <td>5</td>\n",
              "      <td>0</td>\n",
              "    </tr>\n",
              "    <tr>\n",
              "      <th>980</th>\n",
              "      <td>0</td>\n",
              "      <td>enka</td>\n",
              "      <td>0.565200</td>\n",
              "      <td>0.421800</td>\n",
              "      <td>207485.400000</td>\n",
              "      <td>0.396200</td>\n",
              "      <td>0.000036</td>\n",
              "      <td>0.302600</td>\n",
              "      <td>-9.536400</td>\n",
              "      <td>0.030180</td>\n",
              "      <td>120.504800</td>\n",
              "      <td>0.409800</td>\n",
              "      <td>44.000000</td>\n",
              "      <td>7</td>\n",
              "      <td>0</td>\n",
              "    </tr>\n",
              "    <tr>\n",
              "      <th>1867</th>\n",
              "      <td>0</td>\n",
              "      <td>musica popular mineira</td>\n",
              "      <td>0.338841</td>\n",
              "      <td>0.538724</td>\n",
              "      <td>175021.130288</td>\n",
              "      <td>0.460924</td>\n",
              "      <td>0.058197</td>\n",
              "      <td>0.190366</td>\n",
              "      <td>-12.605124</td>\n",
              "      <td>0.058488</td>\n",
              "      <td>125.279068</td>\n",
              "      <td>0.583981</td>\n",
              "      <td>41.411058</td>\n",
              "      <td>4</td>\n",
              "      <td>0</td>\n",
              "    </tr>\n",
              "  </tbody>\n",
              "</table>\n",
              "</div>"
            ],
            "text/plain": [
              "      mode                  genres  acousticness  ...  popularity  key  cluster\n",
              "2264     1        puerto rican pop      0.423336  ...   53.958298    9        0\n",
              "2140     1            pinoy praise      0.351918  ...   49.833333    7        0\n",
              "1524     1            japanese vgm      0.534099  ...   45.349020    7        0\n",
              "1309     1          hong kong rock      0.552000  ...   39.000000    5        0\n",
              "1365     1           indie hip hop      0.388790  ...   49.300000    7        0\n",
              "429      0     canadian electropop      0.194044  ...   56.703704    9        0\n",
              "1343     1                    idol      0.360698  ...   49.126190    5        0\n",
              "2007     0        nottingham indie      0.256493  ...   51.800000    5        0\n",
              "980      0                    enka      0.565200  ...   44.000000    7        0\n",
              "1867     0  musica popular mineira      0.338841  ...   41.411058    4        0\n",
              "\n",
              "[10 rows x 15 columns]"
            ]
          },
          "metadata": {
            "tags": []
          },
          "execution_count": 44
        }
      ]
    },
    {
      "cell_type": "code",
      "metadata": {
        "colab": {
          "base_uri": "https://localhost:8080/",
          "height": 481
        },
        "id": "X_u1YxtL6b0u",
        "outputId": "7fa1e500-52ed-4e1b-868f-9f160b10bce7"
      },
      "source": [
        "x=df[df['cluster']==1].sample(10)\r\n",
        "x"
      ],
      "execution_count": 45,
      "outputs": [
        {
          "output_type": "execute_result",
          "data": {
            "text/html": [
              "<div>\n",
              "<style scoped>\n",
              "    .dataframe tbody tr th:only-of-type {\n",
              "        vertical-align: middle;\n",
              "    }\n",
              "\n",
              "    .dataframe tbody tr th {\n",
              "        vertical-align: top;\n",
              "    }\n",
              "\n",
              "    .dataframe thead th {\n",
              "        text-align: right;\n",
              "    }\n",
              "</style>\n",
              "<table border=\"1\" class=\"dataframe\">\n",
              "  <thead>\n",
              "    <tr style=\"text-align: right;\">\n",
              "      <th></th>\n",
              "      <th>mode</th>\n",
              "      <th>genres</th>\n",
              "      <th>acousticness</th>\n",
              "      <th>danceability</th>\n",
              "      <th>duration_ms</th>\n",
              "      <th>energy</th>\n",
              "      <th>instrumentalness</th>\n",
              "      <th>liveness</th>\n",
              "      <th>loudness</th>\n",
              "      <th>speechiness</th>\n",
              "      <th>tempo</th>\n",
              "      <th>valence</th>\n",
              "      <th>popularity</th>\n",
              "      <th>key</th>\n",
              "      <th>cluster</th>\n",
              "    </tr>\n",
              "  </thead>\n",
              "  <tbody>\n",
              "    <tr>\n",
              "      <th>75</th>\n",
              "      <td>1</td>\n",
              "      <td>american contemporary classical</td>\n",
              "      <td>0.938316</td>\n",
              "      <td>0.318150</td>\n",
              "      <td>331714.743172</td>\n",
              "      <td>0.111088</td>\n",
              "      <td>0.481780</td>\n",
              "      <td>0.142994</td>\n",
              "      <td>-25.939671</td>\n",
              "      <td>0.051622</td>\n",
              "      <td>99.853112</td>\n",
              "      <td>0.267309</td>\n",
              "      <td>30.585156</td>\n",
              "      <td>9</td>\n",
              "      <td>1</td>\n",
              "    </tr>\n",
              "    <tr>\n",
              "      <th>629</th>\n",
              "      <td>1</td>\n",
              "      <td>classical</td>\n",
              "      <td>0.923085</td>\n",
              "      <td>0.314425</td>\n",
              "      <td>312001.151573</td>\n",
              "      <td>0.164079</td>\n",
              "      <td>0.576012</td>\n",
              "      <td>0.172137</td>\n",
              "      <td>-20.972634</td>\n",
              "      <td>0.053454</td>\n",
              "      <td>103.157583</td>\n",
              "      <td>0.235625</td>\n",
              "      <td>17.142737</td>\n",
              "      <td>7</td>\n",
              "      <td>1</td>\n",
              "    </tr>\n",
              "    <tr>\n",
              "      <th>2935</th>\n",
              "      <td>1</td>\n",
              "      <td>wind ensemble</td>\n",
              "      <td>0.994500</td>\n",
              "      <td>0.327500</td>\n",
              "      <td>217566.500000</td>\n",
              "      <td>0.147100</td>\n",
              "      <td>0.907500</td>\n",
              "      <td>0.112500</td>\n",
              "      <td>-22.748000</td>\n",
              "      <td>0.044700</td>\n",
              "      <td>126.060000</td>\n",
              "      <td>0.474650</td>\n",
              "      <td>48.500000</td>\n",
              "      <td>3</td>\n",
              "      <td>1</td>\n",
              "    </tr>\n",
              "    <tr>\n",
              "      <th>1455</th>\n",
              "      <td>1</td>\n",
              "      <td>italian orchestra</td>\n",
              "      <td>0.930999</td>\n",
              "      <td>0.344525</td>\n",
              "      <td>310097.088225</td>\n",
              "      <td>0.197462</td>\n",
              "      <td>0.174188</td>\n",
              "      <td>0.240726</td>\n",
              "      <td>-16.820459</td>\n",
              "      <td>0.061424</td>\n",
              "      <td>102.566143</td>\n",
              "      <td>0.196788</td>\n",
              "      <td>16.594080</td>\n",
              "      <td>7</td>\n",
              "      <td>1</td>\n",
              "    </tr>\n",
              "    <tr>\n",
              "      <th>1977</th>\n",
              "      <td>1</td>\n",
              "      <td>nordic soundtrack</td>\n",
              "      <td>0.892500</td>\n",
              "      <td>0.250050</td>\n",
              "      <td>305610.250000</td>\n",
              "      <td>0.229750</td>\n",
              "      <td>0.918250</td>\n",
              "      <td>0.186550</td>\n",
              "      <td>-17.540250</td>\n",
              "      <td>0.039650</td>\n",
              "      <td>103.507125</td>\n",
              "      <td>0.075400</td>\n",
              "      <td>51.125000</td>\n",
              "      <td>7</td>\n",
              "      <td>1</td>\n",
              "    </tr>\n",
              "    <tr>\n",
              "      <th>637</th>\n",
              "      <td>1</td>\n",
              "      <td>classical era</td>\n",
              "      <td>0.961011</td>\n",
              "      <td>0.374795</td>\n",
              "      <td>259973.041870</td>\n",
              "      <td>0.148663</td>\n",
              "      <td>0.548127</td>\n",
              "      <td>0.150955</td>\n",
              "      <td>-20.494002</td>\n",
              "      <td>0.050937</td>\n",
              "      <td>110.367184</td>\n",
              "      <td>0.343931</td>\n",
              "      <td>9.711395</td>\n",
              "      <td>10</td>\n",
              "      <td>1</td>\n",
              "    </tr>\n",
              "    <tr>\n",
              "      <th>2945</th>\n",
              "      <td>1</td>\n",
              "      <td>world meditation</td>\n",
              "      <td>0.950786</td>\n",
              "      <td>0.349643</td>\n",
              "      <td>442902.714286</td>\n",
              "      <td>0.112900</td>\n",
              "      <td>0.878143</td>\n",
              "      <td>0.113350</td>\n",
              "      <td>-21.347714</td>\n",
              "      <td>0.036743</td>\n",
              "      <td>107.919143</td>\n",
              "      <td>0.109914</td>\n",
              "      <td>51.142857</td>\n",
              "      <td>1</td>\n",
              "      <td>1</td>\n",
              "    </tr>\n",
              "    <tr>\n",
              "      <th>1617</th>\n",
              "      <td>0</td>\n",
              "      <td>koto</td>\n",
              "      <td>0.889500</td>\n",
              "      <td>0.495667</td>\n",
              "      <td>461817.833333</td>\n",
              "      <td>0.124333</td>\n",
              "      <td>0.602980</td>\n",
              "      <td>0.090083</td>\n",
              "      <td>-19.911333</td>\n",
              "      <td>0.135100</td>\n",
              "      <td>101.330500</td>\n",
              "      <td>0.311983</td>\n",
              "      <td>14.833333</td>\n",
              "      <td>7</td>\n",
              "      <td>1</td>\n",
              "    </tr>\n",
              "    <tr>\n",
              "      <th>2366</th>\n",
              "      <td>1</td>\n",
              "      <td>romanian folk</td>\n",
              "      <td>0.856125</td>\n",
              "      <td>0.374625</td>\n",
              "      <td>253505.125000</td>\n",
              "      <td>0.265125</td>\n",
              "      <td>0.710125</td>\n",
              "      <td>0.105050</td>\n",
              "      <td>-12.677000</td>\n",
              "      <td>0.045187</td>\n",
              "      <td>85.178375</td>\n",
              "      <td>0.089388</td>\n",
              "      <td>45.875000</td>\n",
              "      <td>2</td>\n",
              "      <td>1</td>\n",
              "    </tr>\n",
              "    <tr>\n",
              "      <th>1417</th>\n",
              "      <td>1</td>\n",
              "      <td>irish indie</td>\n",
              "      <td>0.988000</td>\n",
              "      <td>0.521000</td>\n",
              "      <td>313253.000000</td>\n",
              "      <td>0.088900</td>\n",
              "      <td>0.182000</td>\n",
              "      <td>0.096500</td>\n",
              "      <td>-19.457000</td>\n",
              "      <td>0.050700</td>\n",
              "      <td>115.430000</td>\n",
              "      <td>0.047900</td>\n",
              "      <td>69.000000</td>\n",
              "      <td>4</td>\n",
              "      <td>1</td>\n",
              "    </tr>\n",
              "  </tbody>\n",
              "</table>\n",
              "</div>"
            ],
            "text/plain": [
              "      mode                           genres  ...  key  cluster\n",
              "75       1  american contemporary classical  ...    9        1\n",
              "629      1                        classical  ...    7        1\n",
              "2935     1                    wind ensemble  ...    3        1\n",
              "1455     1                italian orchestra  ...    7        1\n",
              "1977     1                nordic soundtrack  ...    7        1\n",
              "637      1                    classical era  ...   10        1\n",
              "2945     1                 world meditation  ...    1        1\n",
              "1617     0                             koto  ...    7        1\n",
              "2366     1                    romanian folk  ...    2        1\n",
              "1417     1                      irish indie  ...    4        1\n",
              "\n",
              "[10 rows x 15 columns]"
            ]
          },
          "metadata": {
            "tags": []
          },
          "execution_count": 45
        }
      ]
    },
    {
      "cell_type": "code",
      "metadata": {
        "colab": {
          "base_uri": "https://localhost:8080/",
          "height": 549
        },
        "id": "va3ZjfEQ6X9B",
        "outputId": "a2c48de2-1e90-4ec7-84de-9053582e3211"
      },
      "source": [
        "x=df[df['cluster']==2].sample(10)\r\n",
        "x"
      ],
      "execution_count": 46,
      "outputs": [
        {
          "output_type": "execute_result",
          "data": {
            "text/html": [
              "<div>\n",
              "<style scoped>\n",
              "    .dataframe tbody tr th:only-of-type {\n",
              "        vertical-align: middle;\n",
              "    }\n",
              "\n",
              "    .dataframe tbody tr th {\n",
              "        vertical-align: top;\n",
              "    }\n",
              "\n",
              "    .dataframe thead th {\n",
              "        text-align: right;\n",
              "    }\n",
              "</style>\n",
              "<table border=\"1\" class=\"dataframe\">\n",
              "  <thead>\n",
              "    <tr style=\"text-align: right;\">\n",
              "      <th></th>\n",
              "      <th>mode</th>\n",
              "      <th>genres</th>\n",
              "      <th>acousticness</th>\n",
              "      <th>danceability</th>\n",
              "      <th>duration_ms</th>\n",
              "      <th>energy</th>\n",
              "      <th>instrumentalness</th>\n",
              "      <th>liveness</th>\n",
              "      <th>loudness</th>\n",
              "      <th>speechiness</th>\n",
              "      <th>tempo</th>\n",
              "      <th>valence</th>\n",
              "      <th>popularity</th>\n",
              "      <th>key</th>\n",
              "      <th>cluster</th>\n",
              "    </tr>\n",
              "  </thead>\n",
              "  <tbody>\n",
              "    <tr>\n",
              "      <th>889</th>\n",
              "      <td>1</td>\n",
              "      <td>dreamo</td>\n",
              "      <td>0.146088</td>\n",
              "      <td>0.473737</td>\n",
              "      <td>229022.659556</td>\n",
              "      <td>0.764386</td>\n",
              "      <td>0.047979</td>\n",
              "      <td>0.240965</td>\n",
              "      <td>-6.262208</td>\n",
              "      <td>0.056678</td>\n",
              "      <td>129.731128</td>\n",
              "      <td>0.481513</td>\n",
              "      <td>45.607831</td>\n",
              "      <td>11</td>\n",
              "      <td>2</td>\n",
              "    </tr>\n",
              "    <tr>\n",
              "      <th>2696</th>\n",
              "      <td>0</td>\n",
              "      <td>technical groove metal</td>\n",
              "      <td>0.000059</td>\n",
              "      <td>0.355600</td>\n",
              "      <td>340938.600000</td>\n",
              "      <td>0.977400</td>\n",
              "      <td>0.530798</td>\n",
              "      <td>0.152400</td>\n",
              "      <td>-5.232600</td>\n",
              "      <td>0.097900</td>\n",
              "      <td>124.719000</td>\n",
              "      <td>0.229360</td>\n",
              "      <td>50.600000</td>\n",
              "      <td>10</td>\n",
              "      <td>2</td>\n",
              "    </tr>\n",
              "    <tr>\n",
              "      <th>978</th>\n",
              "      <td>0</td>\n",
              "      <td>english indie rock</td>\n",
              "      <td>0.013150</td>\n",
              "      <td>0.368667</td>\n",
              "      <td>221551.333333</td>\n",
              "      <td>0.898667</td>\n",
              "      <td>0.000018</td>\n",
              "      <td>0.191000</td>\n",
              "      <td>-3.635667</td>\n",
              "      <td>0.049633</td>\n",
              "      <td>165.833333</td>\n",
              "      <td>0.724000</td>\n",
              "      <td>43.666667</td>\n",
              "      <td>5</td>\n",
              "      <td>2</td>\n",
              "    </tr>\n",
              "    <tr>\n",
              "      <th>691</th>\n",
              "      <td>0</td>\n",
              "      <td>cornwall indie</td>\n",
              "      <td>0.043700</td>\n",
              "      <td>0.391000</td>\n",
              "      <td>218773.000000</td>\n",
              "      <td>0.630000</td>\n",
              "      <td>0.001150</td>\n",
              "      <td>0.113000</td>\n",
              "      <td>-6.764000</td>\n",
              "      <td>0.027400</td>\n",
              "      <td>174.040000</td>\n",
              "      <td>0.134000</td>\n",
              "      <td>43.000000</td>\n",
              "      <td>3</td>\n",
              "      <td>2</td>\n",
              "    </tr>\n",
              "    <tr>\n",
              "      <th>2310</th>\n",
              "      <td>1</td>\n",
              "      <td>reading indie</td>\n",
              "      <td>0.130258</td>\n",
              "      <td>0.299906</td>\n",
              "      <td>269958.296875</td>\n",
              "      <td>0.704387</td>\n",
              "      <td>0.575309</td>\n",
              "      <td>0.233428</td>\n",
              "      <td>-8.997797</td>\n",
              "      <td>0.042678</td>\n",
              "      <td>107.326313</td>\n",
              "      <td>0.309613</td>\n",
              "      <td>38.000000</td>\n",
              "      <td>2</td>\n",
              "      <td>2</td>\n",
              "    </tr>\n",
              "    <tr>\n",
              "      <th>1231</th>\n",
              "      <td>1</td>\n",
              "      <td>groove metal</td>\n",
              "      <td>0.014685</td>\n",
              "      <td>0.427178</td>\n",
              "      <td>261738.784674</td>\n",
              "      <td>0.901925</td>\n",
              "      <td>0.098416</td>\n",
              "      <td>0.230659</td>\n",
              "      <td>-5.754641</td>\n",
              "      <td>0.103942</td>\n",
              "      <td>124.242087</td>\n",
              "      <td>0.372259</td>\n",
              "      <td>45.764561</td>\n",
              "      <td>7</td>\n",
              "      <td>2</td>\n",
              "    </tr>\n",
              "    <tr>\n",
              "      <th>1032</th>\n",
              "      <td>0</td>\n",
              "      <td>finnish edm</td>\n",
              "      <td>0.033633</td>\n",
              "      <td>0.619800</td>\n",
              "      <td>352194.800000</td>\n",
              "      <td>0.769400</td>\n",
              "      <td>0.521700</td>\n",
              "      <td>0.117840</td>\n",
              "      <td>-6.486900</td>\n",
              "      <td>0.075120</td>\n",
              "      <td>112.459300</td>\n",
              "      <td>0.422600</td>\n",
              "      <td>47.000000</td>\n",
              "      <td>5</td>\n",
              "      <td>2</td>\n",
              "    </tr>\n",
              "    <tr>\n",
              "      <th>2640</th>\n",
              "      <td>0</td>\n",
              "      <td>swedish metalcore</td>\n",
              "      <td>0.013400</td>\n",
              "      <td>0.272000</td>\n",
              "      <td>237867.000000</td>\n",
              "      <td>0.903000</td>\n",
              "      <td>0.000000</td>\n",
              "      <td>0.321000</td>\n",
              "      <td>-4.343000</td>\n",
              "      <td>0.096100</td>\n",
              "      <td>120.057000</td>\n",
              "      <td>0.154000</td>\n",
              "      <td>56.000000</td>\n",
              "      <td>2</td>\n",
              "      <td>2</td>\n",
              "    </tr>\n",
              "    <tr>\n",
              "      <th>1755</th>\n",
              "      <td>1</td>\n",
              "      <td>metal guitar</td>\n",
              "      <td>0.083223</td>\n",
              "      <td>0.384387</td>\n",
              "      <td>270804.918137</td>\n",
              "      <td>0.786300</td>\n",
              "      <td>0.502415</td>\n",
              "      <td>0.200895</td>\n",
              "      <td>-9.621931</td>\n",
              "      <td>0.086442</td>\n",
              "      <td>127.557510</td>\n",
              "      <td>0.312099</td>\n",
              "      <td>38.984314</td>\n",
              "      <td>6</td>\n",
              "      <td>2</td>\n",
              "    </tr>\n",
              "    <tr>\n",
              "      <th>598</th>\n",
              "      <td>1</td>\n",
              "      <td>classic indo pop</td>\n",
              "      <td>0.040900</td>\n",
              "      <td>0.370000</td>\n",
              "      <td>295947.000000</td>\n",
              "      <td>0.514000</td>\n",
              "      <td>0.001150</td>\n",
              "      <td>0.283000</td>\n",
              "      <td>-5.479000</td>\n",
              "      <td>0.030200</td>\n",
              "      <td>126.978000</td>\n",
              "      <td>0.170000</td>\n",
              "      <td>56.000000</td>\n",
              "      <td>2</td>\n",
              "      <td>2</td>\n",
              "    </tr>\n",
              "  </tbody>\n",
              "</table>\n",
              "</div>"
            ],
            "text/plain": [
              "      mode                  genres  acousticness  ...  popularity  key  cluster\n",
              "889      1                  dreamo      0.146088  ...   45.607831   11        2\n",
              "2696     0  technical groove metal      0.000059  ...   50.600000   10        2\n",
              "978      0      english indie rock      0.013150  ...   43.666667    5        2\n",
              "691      0          cornwall indie      0.043700  ...   43.000000    3        2\n",
              "2310     1           reading indie      0.130258  ...   38.000000    2        2\n",
              "1231     1            groove metal      0.014685  ...   45.764561    7        2\n",
              "1032     0             finnish edm      0.033633  ...   47.000000    5        2\n",
              "2640     0       swedish metalcore      0.013400  ...   56.000000    2        2\n",
              "1755     1            metal guitar      0.083223  ...   38.984314    6        2\n",
              "598      1        classic indo pop      0.040900  ...   56.000000    2        2\n",
              "\n",
              "[10 rows x 15 columns]"
            ]
          },
          "metadata": {
            "tags": []
          },
          "execution_count": 46
        }
      ]
    },
    {
      "cell_type": "code",
      "metadata": {
        "colab": {
          "base_uri": "https://localhost:8080/",
          "height": 447
        },
        "id": "mjVoycuq6Uo3",
        "outputId": "97f03355-1c09-4f0a-f3f2-7c2a0c73d34f"
      },
      "source": [
        "x=df[df['cluster']==3].sample(10)\r\n",
        "x"
      ],
      "execution_count": 47,
      "outputs": [
        {
          "output_type": "execute_result",
          "data": {
            "text/html": [
              "<div>\n",
              "<style scoped>\n",
              "    .dataframe tbody tr th:only-of-type {\n",
              "        vertical-align: middle;\n",
              "    }\n",
              "\n",
              "    .dataframe tbody tr th {\n",
              "        vertical-align: top;\n",
              "    }\n",
              "\n",
              "    .dataframe thead th {\n",
              "        text-align: right;\n",
              "    }\n",
              "</style>\n",
              "<table border=\"1\" class=\"dataframe\">\n",
              "  <thead>\n",
              "    <tr style=\"text-align: right;\">\n",
              "      <th></th>\n",
              "      <th>mode</th>\n",
              "      <th>genres</th>\n",
              "      <th>acousticness</th>\n",
              "      <th>danceability</th>\n",
              "      <th>duration_ms</th>\n",
              "      <th>energy</th>\n",
              "      <th>instrumentalness</th>\n",
              "      <th>liveness</th>\n",
              "      <th>loudness</th>\n",
              "      <th>speechiness</th>\n",
              "      <th>tempo</th>\n",
              "      <th>valence</th>\n",
              "      <th>popularity</th>\n",
              "      <th>key</th>\n",
              "      <th>cluster</th>\n",
              "    </tr>\n",
              "  </thead>\n",
              "  <tbody>\n",
              "    <tr>\n",
              "      <th>950</th>\n",
              "      <td>0</td>\n",
              "      <td>egyptian pop</td>\n",
              "      <td>0.096911</td>\n",
              "      <td>0.758333</td>\n",
              "      <td>236204.000000</td>\n",
              "      <td>0.750667</td>\n",
              "      <td>0.000009</td>\n",
              "      <td>0.165433</td>\n",
              "      <td>-8.576000</td>\n",
              "      <td>0.054144</td>\n",
              "      <td>132.441111</td>\n",
              "      <td>0.825222</td>\n",
              "      <td>53.222222</td>\n",
              "      <td>5</td>\n",
              "      <td>3</td>\n",
              "    </tr>\n",
              "    <tr>\n",
              "      <th>2182</th>\n",
              "      <td>1</td>\n",
              "      <td>pop peruano</td>\n",
              "      <td>0.350700</td>\n",
              "      <td>0.655100</td>\n",
              "      <td>237226.600000</td>\n",
              "      <td>0.726733</td>\n",
              "      <td>0.002379</td>\n",
              "      <td>0.092143</td>\n",
              "      <td>-8.935667</td>\n",
              "      <td>0.051040</td>\n",
              "      <td>126.443067</td>\n",
              "      <td>0.795400</td>\n",
              "      <td>52.466667</td>\n",
              "      <td>4</td>\n",
              "      <td>3</td>\n",
              "    </tr>\n",
              "    <tr>\n",
              "      <th>2693</th>\n",
              "      <td>1</td>\n",
              "      <td>tech house</td>\n",
              "      <td>0.106400</td>\n",
              "      <td>0.757408</td>\n",
              "      <td>320884.600000</td>\n",
              "      <td>0.681777</td>\n",
              "      <td>0.515444</td>\n",
              "      <td>0.128535</td>\n",
              "      <td>-7.751600</td>\n",
              "      <td>0.053321</td>\n",
              "      <td>128.952962</td>\n",
              "      <td>0.505798</td>\n",
              "      <td>23.115385</td>\n",
              "      <td>2</td>\n",
              "      <td>3</td>\n",
              "    </tr>\n",
              "    <tr>\n",
              "      <th>506</th>\n",
              "      <td>1</td>\n",
              "      <td>chicago indie</td>\n",
              "      <td>0.166342</td>\n",
              "      <td>0.530775</td>\n",
              "      <td>211891.383007</td>\n",
              "      <td>0.678525</td>\n",
              "      <td>0.126253</td>\n",
              "      <td>0.198268</td>\n",
              "      <td>-7.748312</td>\n",
              "      <td>0.076872</td>\n",
              "      <td>126.755645</td>\n",
              "      <td>0.512122</td>\n",
              "      <td>50.202690</td>\n",
              "      <td>2</td>\n",
              "      <td>3</td>\n",
              "    </tr>\n",
              "    <tr>\n",
              "      <th>425</th>\n",
              "      <td>1</td>\n",
              "      <td>canadian contemporary country</td>\n",
              "      <td>0.261573</td>\n",
              "      <td>0.589948</td>\n",
              "      <td>212521.895752</td>\n",
              "      <td>0.671042</td>\n",
              "      <td>0.030510</td>\n",
              "      <td>0.202876</td>\n",
              "      <td>-7.319062</td>\n",
              "      <td>0.052531</td>\n",
              "      <td>117.847216</td>\n",
              "      <td>0.550460</td>\n",
              "      <td>52.361874</td>\n",
              "      <td>7</td>\n",
              "      <td>3</td>\n",
              "    </tr>\n",
              "    <tr>\n",
              "      <th>242</th>\n",
              "      <td>1</td>\n",
              "      <td>battle rap</td>\n",
              "      <td>0.067444</td>\n",
              "      <td>0.696731</td>\n",
              "      <td>259029.232535</td>\n",
              "      <td>0.766937</td>\n",
              "      <td>0.000367</td>\n",
              "      <td>0.275842</td>\n",
              "      <td>-5.558820</td>\n",
              "      <td>0.266617</td>\n",
              "      <td>103.956076</td>\n",
              "      <td>0.582814</td>\n",
              "      <td>47.548290</td>\n",
              "      <td>1</td>\n",
              "      <td>3</td>\n",
              "    </tr>\n",
              "    <tr>\n",
              "      <th>1216</th>\n",
              "      <td>1</td>\n",
              "      <td>gqom</td>\n",
              "      <td>0.142880</td>\n",
              "      <td>0.700800</td>\n",
              "      <td>228060.600000</td>\n",
              "      <td>0.646000</td>\n",
              "      <td>0.000420</td>\n",
              "      <td>0.191560</td>\n",
              "      <td>-6.589000</td>\n",
              "      <td>0.107640</td>\n",
              "      <td>134.820400</td>\n",
              "      <td>0.639000</td>\n",
              "      <td>70.200000</td>\n",
              "      <td>10</td>\n",
              "      <td>3</td>\n",
              "    </tr>\n",
              "    <tr>\n",
              "      <th>1115</th>\n",
              "      <td>0</td>\n",
              "      <td>funk das antigas</td>\n",
              "      <td>0.328000</td>\n",
              "      <td>0.722000</td>\n",
              "      <td>184720.000000</td>\n",
              "      <td>0.738000</td>\n",
              "      <td>0.000015</td>\n",
              "      <td>0.198000</td>\n",
              "      <td>-6.073000</td>\n",
              "      <td>0.247000</td>\n",
              "      <td>198.075000</td>\n",
              "      <td>0.748000</td>\n",
              "      <td>71.000000</td>\n",
              "      <td>9</td>\n",
              "      <td>3</td>\n",
              "    </tr>\n",
              "    <tr>\n",
              "      <th>808</th>\n",
              "      <td>1</td>\n",
              "      <td>deep freestyle</td>\n",
              "      <td>0.026048</td>\n",
              "      <td>0.733222</td>\n",
              "      <td>257723.111111</td>\n",
              "      <td>0.743000</td>\n",
              "      <td>0.076028</td>\n",
              "      <td>0.165278</td>\n",
              "      <td>-9.835444</td>\n",
              "      <td>0.062922</td>\n",
              "      <td>120.462556</td>\n",
              "      <td>0.804778</td>\n",
              "      <td>32.333333</td>\n",
              "      <td>7</td>\n",
              "      <td>3</td>\n",
              "    </tr>\n",
              "    <tr>\n",
              "      <th>387</th>\n",
              "      <td>1</td>\n",
              "      <td>broken beat</td>\n",
              "      <td>0.212287</td>\n",
              "      <td>0.591542</td>\n",
              "      <td>295309.333333</td>\n",
              "      <td>0.580583</td>\n",
              "      <td>0.340971</td>\n",
              "      <td>0.101300</td>\n",
              "      <td>-10.923833</td>\n",
              "      <td>0.131404</td>\n",
              "      <td>111.818792</td>\n",
              "      <td>0.669500</td>\n",
              "      <td>35.916667</td>\n",
              "      <td>7</td>\n",
              "      <td>3</td>\n",
              "    </tr>\n",
              "  </tbody>\n",
              "</table>\n",
              "</div>"
            ],
            "text/plain": [
              "      mode                         genres  ...  key  cluster\n",
              "950      0                   egyptian pop  ...    5        3\n",
              "2182     1                    pop peruano  ...    4        3\n",
              "2693     1                     tech house  ...    2        3\n",
              "506      1                  chicago indie  ...    2        3\n",
              "425      1  canadian contemporary country  ...    7        3\n",
              "242      1                     battle rap  ...    1        3\n",
              "1216     1                           gqom  ...   10        3\n",
              "1115     0               funk das antigas  ...    9        3\n",
              "808      1                 deep freestyle  ...    7        3\n",
              "387      1                    broken beat  ...    7        3\n",
              "\n",
              "[10 rows x 15 columns]"
            ]
          },
          "metadata": {
            "tags": []
          },
          "execution_count": 47
        }
      ]
    },
    {
      "cell_type": "code",
      "metadata": {
        "id": "OcNfVqI0tOiY",
        "colab": {
          "base_uri": "https://localhost:8080/",
          "height": 430
        },
        "outputId": "228b849e-b2d6-434a-d803-7caad9262833"
      },
      "source": [
        "x=df[df['cluster']==4].sample(10)\r\n",
        "x"
      ],
      "execution_count": 48,
      "outputs": [
        {
          "output_type": "execute_result",
          "data": {
            "text/html": [
              "<div>\n",
              "<style scoped>\n",
              "    .dataframe tbody tr th:only-of-type {\n",
              "        vertical-align: middle;\n",
              "    }\n",
              "\n",
              "    .dataframe tbody tr th {\n",
              "        vertical-align: top;\n",
              "    }\n",
              "\n",
              "    .dataframe thead th {\n",
              "        text-align: right;\n",
              "    }\n",
              "</style>\n",
              "<table border=\"1\" class=\"dataframe\">\n",
              "  <thead>\n",
              "    <tr style=\"text-align: right;\">\n",
              "      <th></th>\n",
              "      <th>mode</th>\n",
              "      <th>genres</th>\n",
              "      <th>acousticness</th>\n",
              "      <th>danceability</th>\n",
              "      <th>duration_ms</th>\n",
              "      <th>energy</th>\n",
              "      <th>instrumentalness</th>\n",
              "      <th>liveness</th>\n",
              "      <th>loudness</th>\n",
              "      <th>speechiness</th>\n",
              "      <th>tempo</th>\n",
              "      <th>valence</th>\n",
              "      <th>popularity</th>\n",
              "      <th>key</th>\n",
              "      <th>cluster</th>\n",
              "    </tr>\n",
              "  </thead>\n",
              "  <tbody>\n",
              "    <tr>\n",
              "      <th>1603</th>\n",
              "      <td>1</td>\n",
              "      <td>klezmer</td>\n",
              "      <td>0.765433</td>\n",
              "      <td>0.543161</td>\n",
              "      <td>173010.455556</td>\n",
              "      <td>0.403894</td>\n",
              "      <td>0.018383</td>\n",
              "      <td>0.234297</td>\n",
              "      <td>-12.555128</td>\n",
              "      <td>0.088513</td>\n",
              "      <td>125.842472</td>\n",
              "      <td>0.686028</td>\n",
              "      <td>13.933333</td>\n",
              "      <td>0</td>\n",
              "      <td>4</td>\n",
              "    </tr>\n",
              "    <tr>\n",
              "      <th>1533</th>\n",
              "      <td>1</td>\n",
              "      <td>jazz clarinet</td>\n",
              "      <td>0.804451</td>\n",
              "      <td>0.500545</td>\n",
              "      <td>251292.279733</td>\n",
              "      <td>0.328795</td>\n",
              "      <td>0.501989</td>\n",
              "      <td>0.252174</td>\n",
              "      <td>-14.557598</td>\n",
              "      <td>0.071057</td>\n",
              "      <td>112.111560</td>\n",
              "      <td>0.511888</td>\n",
              "      <td>13.148324</td>\n",
              "      <td>5</td>\n",
              "      <td>4</td>\n",
              "    </tr>\n",
              "    <tr>\n",
              "      <th>1870</th>\n",
              "      <td>1</td>\n",
              "      <td>musica prehispanica</td>\n",
              "      <td>0.858917</td>\n",
              "      <td>0.613583</td>\n",
              "      <td>125067.666667</td>\n",
              "      <td>0.349667</td>\n",
              "      <td>0.403637</td>\n",
              "      <td>0.327183</td>\n",
              "      <td>-20.781500</td>\n",
              "      <td>0.227817</td>\n",
              "      <td>126.499083</td>\n",
              "      <td>0.792750</td>\n",
              "      <td>4.833333</td>\n",
              "      <td>6</td>\n",
              "      <td>4</td>\n",
              "    </tr>\n",
              "    <tr>\n",
              "      <th>1275</th>\n",
              "      <td>1</td>\n",
              "      <td>harmonica jazz</td>\n",
              "      <td>0.816714</td>\n",
              "      <td>0.611714</td>\n",
              "      <td>160260.000000</td>\n",
              "      <td>0.233714</td>\n",
              "      <td>0.560591</td>\n",
              "      <td>0.178857</td>\n",
              "      <td>-16.796000</td>\n",
              "      <td>0.087700</td>\n",
              "      <td>107.898571</td>\n",
              "      <td>0.490429</td>\n",
              "      <td>16.142857</td>\n",
              "      <td>5</td>\n",
              "      <td>4</td>\n",
              "    </tr>\n",
              "    <tr>\n",
              "      <th>216</th>\n",
              "      <td>1</td>\n",
              "      <td>bandinhas</td>\n",
              "      <td>0.960200</td>\n",
              "      <td>0.644200</td>\n",
              "      <td>162554.400000</td>\n",
              "      <td>0.424200</td>\n",
              "      <td>0.913800</td>\n",
              "      <td>0.164800</td>\n",
              "      <td>-13.111200</td>\n",
              "      <td>0.041380</td>\n",
              "      <td>85.598800</td>\n",
              "      <td>0.803600</td>\n",
              "      <td>2.200000</td>\n",
              "      <td>8</td>\n",
              "      <td>4</td>\n",
              "    </tr>\n",
              "    <tr>\n",
              "      <th>1920</th>\n",
              "      <td>0</td>\n",
              "      <td>nepali indie</td>\n",
              "      <td>0.988000</td>\n",
              "      <td>0.606000</td>\n",
              "      <td>198155.000000</td>\n",
              "      <td>0.341000</td>\n",
              "      <td>0.016100</td>\n",
              "      <td>0.190000</td>\n",
              "      <td>-7.602000</td>\n",
              "      <td>0.079400</td>\n",
              "      <td>82.913000</td>\n",
              "      <td>0.666000</td>\n",
              "      <td>0.000000</td>\n",
              "      <td>8</td>\n",
              "      <td>4</td>\n",
              "    </tr>\n",
              "    <tr>\n",
              "      <th>1201</th>\n",
              "      <td>0</td>\n",
              "      <td>gospel italiano</td>\n",
              "      <td>0.979000</td>\n",
              "      <td>0.672000</td>\n",
              "      <td>69813.000000</td>\n",
              "      <td>0.441000</td>\n",
              "      <td>0.000000</td>\n",
              "      <td>0.193000</td>\n",
              "      <td>-12.386000</td>\n",
              "      <td>0.735000</td>\n",
              "      <td>91.216000</td>\n",
              "      <td>0.804000</td>\n",
              "      <td>1.000000</td>\n",
              "      <td>8</td>\n",
              "      <td>4</td>\n",
              "    </tr>\n",
              "    <tr>\n",
              "      <th>249</th>\n",
              "      <td>1</td>\n",
              "      <td>beat poetry</td>\n",
              "      <td>0.703833</td>\n",
              "      <td>0.607556</td>\n",
              "      <td>207782.611111</td>\n",
              "      <td>0.178872</td>\n",
              "      <td>0.000169</td>\n",
              "      <td>0.161942</td>\n",
              "      <td>-20.827278</td>\n",
              "      <td>0.422472</td>\n",
              "      <td>122.336361</td>\n",
              "      <td>0.466906</td>\n",
              "      <td>12.027778</td>\n",
              "      <td>10</td>\n",
              "      <td>4</td>\n",
              "    </tr>\n",
              "    <tr>\n",
              "      <th>2406</th>\n",
              "      <td>1</td>\n",
              "      <td>salsa</td>\n",
              "      <td>0.544414</td>\n",
              "      <td>0.643007</td>\n",
              "      <td>285627.269464</td>\n",
              "      <td>0.653812</td>\n",
              "      <td>0.042815</td>\n",
              "      <td>0.188429</td>\n",
              "      <td>-8.087020</td>\n",
              "      <td>0.053137</td>\n",
              "      <td>115.769487</td>\n",
              "      <td>0.827651</td>\n",
              "      <td>40.311839</td>\n",
              "      <td>7</td>\n",
              "      <td>4</td>\n",
              "    </tr>\n",
              "    <tr>\n",
              "      <th>2309</th>\n",
              "      <td>1</td>\n",
              "      <td>reading</td>\n",
              "      <td>0.729457</td>\n",
              "      <td>0.613915</td>\n",
              "      <td>346576.273386</td>\n",
              "      <td>0.225348</td>\n",
              "      <td>0.000006</td>\n",
              "      <td>0.315305</td>\n",
              "      <td>-21.604240</td>\n",
              "      <td>0.815643</td>\n",
              "      <td>96.783299</td>\n",
              "      <td>0.436603</td>\n",
              "      <td>3.347801</td>\n",
              "      <td>11</td>\n",
              "      <td>4</td>\n",
              "    </tr>\n",
              "  </tbody>\n",
              "</table>\n",
              "</div>"
            ],
            "text/plain": [
              "      mode               genres  acousticness  ...  popularity  key  cluster\n",
              "1603     1              klezmer      0.765433  ...   13.933333    0        4\n",
              "1533     1        jazz clarinet      0.804451  ...   13.148324    5        4\n",
              "1870     1  musica prehispanica      0.858917  ...    4.833333    6        4\n",
              "1275     1       harmonica jazz      0.816714  ...   16.142857    5        4\n",
              "216      1            bandinhas      0.960200  ...    2.200000    8        4\n",
              "1920     0         nepali indie      0.988000  ...    0.000000    8        4\n",
              "1201     0      gospel italiano      0.979000  ...    1.000000    8        4\n",
              "249      1          beat poetry      0.703833  ...   12.027778   10        4\n",
              "2406     1                salsa      0.544414  ...   40.311839    7        4\n",
              "2309     1              reading      0.729457  ...    3.347801   11        4\n",
              "\n",
              "[10 rows x 15 columns]"
            ]
          },
          "metadata": {
            "tags": []
          },
          "execution_count": 48
        }
      ]
    },
    {
      "cell_type": "markdown",
      "metadata": {
        "id": "tbZPl9gFLxH4"
      },
      "source": [
        "# Bonus Section"
      ]
    },
    {
      "cell_type": "markdown",
      "metadata": {
        "id": "Us0OoNdXSaid"
      },
      "source": [
        "In this section, we extracted the row the given data is in, we extracted the cluster number and gave the use a random 10 samples of said cluster"
      ]
    },
    {
      "cell_type": "code",
      "metadata": {
        "id": "fmfMewt_G0zr",
        "colab": {
          "base_uri": "https://localhost:8080/"
        },
        "outputId": "a5dbf4d3-4c79-4fa4-efd8-004574019f66"
      },
      "source": [
        "def gen(x):\r\n",
        "  d=df[(df.values.ravel()==x).reshape(df.shape).any(1)]\r\n",
        "  dd=int(d['cluster'])\r\n",
        "  y=df[df['cluster']==dd].sample(5)\r\n",
        "  return y['genres'].values\r\n",
        "print(gen('medieval'))\r\n",
        "\r\n"
      ],
      "execution_count": 49,
      "outputs": [
        {
          "output_type": "stream",
          "text": [
            "['british choir' 'french soundtrack' 'ballet class'\n",
            " 'russian modern classical' 'nordic soundtrack']\n"
          ],
          "name": "stdout"
        }
      ]
    },
    {
      "cell_type": "markdown",
      "metadata": {
        "id": "ImfGLShqym6V"
      },
      "source": [
        "This version bellow is accompined with a small GUI. \r\n",
        "\r\n",
        "This code is fully running, I commented it because in the initial run it will force you to enter a value. So, when you reach this part, you can uncomment it and run it. It will work insha'allah.\r\n",
        "\r\n",
        "Note, please make sure there are no spaces after you inpute the name of the genre, for example: make sure it is 'timba' and not 'timba '"
      ]
    },
    {
      "cell_type": "code",
      "metadata": {
        "id": "6LdI9R74yeMr"
      },
      "source": [
        "#val = input(\"Enter your genre: \") \r\n",
        "#x=gen(val)\r\n",
        "#x"
      ],
      "execution_count": 50,
      "outputs": []
    }
  ]
}